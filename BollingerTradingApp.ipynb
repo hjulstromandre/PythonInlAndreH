{
 "cells": [
  {
   "cell_type": "code",
   "execution_count": 2,
   "id": "initial_id",
   "metadata": {
    "collapsed": true,
    "ExecuteTime": {
     "end_time": "2024-02-01T12:08:56.999831400Z",
     "start_time": "2024-02-01T12:08:54.686580600Z"
    }
   },
   "outputs": [],
   "source": [
    "import numpy as np # Importerar numpy, för att kunna generera (pseudo)slumpade tal\n",
    "import plotly.express as px # importerar plotly för att generera diagram som är mer interaktiva än matplot\n",
    "import plotly.graph_objects as go # eftersom att flera linjer inkluderas i diagrammet, används graph_objects\n",
    "import pandas as pd # pandas importeras för att skapa dataframes där den genererade datan ingår\n",
    "import statistics # För att göra statistiska uträkningar (t.ex. standardavvikelser) importeras statistics-biblioteket\n"
   ]
  },
  {
   "cell_type": "code",
   "outputs": [],
   "source": [
    "priceindex = [] #Index/varje given tidpunkt för simulationen (representerar x-axeln i diagrammet)\n",
    "stockprices = [] # En lista som populeras med aktiepriser när simulationen körs (representerar y-axeln i diagrammet)\n",
    "tradingperiod = int(input(\"Ange antalet tidsenheter tradingsimulatorn körs\")) # Längden på simulationen\n",
    "profitorloss = 0 # Arbiträrt startvärde, det kommer senare att tillskrivas ett värde för varje tdsenhert som simulerar prisfluktuation \n",
    "startprice = float(input(\"Ange aktiens initiala värde i början av tidsperioden\")) # Aktiens ursprungliga värde, det styr antalet enheter man kan köpa vid varje given tidpunkt\n",
    "windowsize = int(input(\"Ange antalet tidsenheter som det glidande medelvärdet ska beräknas över\")) # En nödvändig variabel för att uträkna det glidande genomsnittet, samt Bollinger-bandens beskaffenhet.\n",
    "\n",
    "for i in range(tradingperiod): # Här fylls listorna som utgör x och y-värden för diagrammet\n",
    "    priceindex.append(i) # Varje index sparas i listan för tidpunkter \n",
    "    chance = np.random.randint(0, 12585) # Chance-variabeln represneterar sannolikheten att priset stiger eller sjunker vid varje given tidpunkt. Den är hämtad från ett genomsnitt av S&P-aktiers fluktuationer, liksom den genomsnittliga procentuella sjunkning eller stigning vid varje tidpunkt. Det är menat som ett exempel och inte ett vetenskaolig underlag, varför detaljer om denna informationsextrahering ej är inkluderad här. \n",
    "    if chance <6628: # sannolikheten att aktien stiger (cirka 52,7%)\n",
    "        profitorloss = 1.01503 # Aktien stiger med 1,5% om det slumpade värdet är under 6628\n",
    "    else:\n",
    "        profitorloss = 0.98574 # Aktien sjunker med lite över 1,4% om värdet är annat än ovanstående\n",
    "    if len(stockprices) == 0: # I simulationens initiering är startpriset multiplicerat med prisfluktuationen det vi vill lägga in i aktieprislistan\n",
    "       stockprices.append(startprice * profitorloss) # Aktiepriset läggs till i listan\n",
    "    if len(stockprices) > 0 and len(stockprices) < tradingperiod: # Om aktieprislistan är längre än 0, är det senaste värdet som lagts till, det som ska vara föremål för prisfluktuationen.\n",
    "        stockprices.append(stockprices[-1] * profitorloss) #Det senaste värdet i aktieprislistan blir utsatt för procentuell sänkning eller ökning och läggs till längst fram i listan. Detta repeteras sedan för hela tidsperioden som användaren angivit.\n",
    "        \n",
    "df = pd.DataFrame(stockprices, columns=['Data']) # En Pandas-dataframe skapas, där aktieprisutvecklingen sparas i en ny kolumn kallad \"Data\" \n",
    "\n",
    "\n",
    "df['Moving Average'] = df['Data'].rolling(window=windowsize).mean() # Det glidande genomsnittet räknas ut genom att använda de inbyggda funktionerna \"rolling\" och \"mean\", som tar emot aktieprislistan och variablen windowsize som representerar hur många tidsenheter genomsnittet räknas över, sen tar genomsnittet för detta vid varje given tidpunkt som simulationen körs. T.ex. dag 1-20,2-21,3-22 etc... om windowsize är 20. Denna information sparas i en ny kolumn kallad \"Moving Average\"\n",
    "\n",
    "\n",
    "df['Upper Band'] = np.nan #En ny kolumn skapas i df som representerar det övre bandet (säljsignal)\n",
    "df['Lower Band'] = np.nan #En ny kolumn skapas i df som representerar det nedre bandet (köpsignal)"
   ],
   "metadata": {
    "collapsed": false,
    "ExecuteTime": {
     "end_time": "2024-02-01T12:09:09.722454Z",
     "start_time": "2024-02-01T12:09:05.513656300Z"
    }
   },
   "id": "12427311dea73e51",
   "execution_count": 3
  },
  {
   "cell_type": "code",
   "outputs": [],
   "source": [],
   "metadata": {
    "collapsed": false
   },
   "id": "eb21bfa5c1c2d62e"
  }
 ],
 "metadata": {
  "kernelspec": {
   "display_name": "Python 3",
   "language": "python",
   "name": "python3"
  },
  "language_info": {
   "codemirror_mode": {
    "name": "ipython",
    "version": 2
   },
   "file_extension": ".py",
   "mimetype": "text/x-python",
   "name": "python",
   "nbconvert_exporter": "python",
   "pygments_lexer": "ipython2",
   "version": "2.7.6"
  }
 },
 "nbformat": 5,
 "nbformat_minor": 5
}
