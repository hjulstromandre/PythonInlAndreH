{
 "cells": [
  {
   "cell_type": "code",
   "execution_count": 2,
   "id": "initial_id",
   "metadata": {
    "collapsed": true,
    "ExecuteTime": {
     "end_time": "2024-02-01T09:57:35.598346700Z",
     "start_time": "2024-02-01T09:57:34.598179200Z"
    }
   },
   "outputs": [],
   "source": [
    "import numpy as np # Importerar numpy, för att kunan generera (pseudo)slumpade tal\n",
    "import plotly.express as px # importerar plotly för att generera diagram som är mer interaktiva än matplot\n",
    "import plotly.graph_objects as go # eftersom att flera linjer inkluderas i diagrammet, används graph_objects\n",
    "import pandas as pd # pandas importeras för att skapa dataframes där den genererade datan ingår\n",
    "import statistics # För att göra statistiska uträkningar (t.ex. standardavvikelser) importeras statistics-biblioteket\n"
   ]
  },
  {
   "cell_type": "code",
   "outputs": [
    {
     "name": "stdout",
     "output_type": "stream",
     "text": [
      "9\n"
     ]
    }
   ],
   "source": [
    "ran =np.random.randint(0,10)\n",
    "print(ran)"
   ],
   "metadata": {
    "collapsed": false,
    "ExecuteTime": {
     "end_time": "2024-02-01T09:58:35.916619300Z",
     "start_time": "2024-02-01T09:58:35.911150600Z"
    }
   },
   "id": "12427311dea73e51",
   "execution_count": 5
  },
  {
   "cell_type": "code",
   "outputs": [],
   "source": [],
   "metadata": {
    "collapsed": false
   },
   "id": "eb21bfa5c1c2d62e"
  }
 ],
 "metadata": {
  "kernelspec": {
   "display_name": "Python 3",
   "language": "python",
   "name": "python3"
  },
  "language_info": {
   "codemirror_mode": {
    "name": "ipython",
    "version": 2
   },
   "file_extension": ".py",
   "mimetype": "text/x-python",
   "name": "python",
   "nbconvert_exporter": "python",
   "pygments_lexer": "ipython2",
   "version": "2.7.6"
  }
 },
 "nbformat": 4,
 "nbformat_minor": 5
}
