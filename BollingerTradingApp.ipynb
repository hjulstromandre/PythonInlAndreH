{
 "cells": [
  {
   "cell_type": "code",
   "execution_count": 2,
   "id": "initial_id",
   "metadata": {
    "collapsed": true,
    "ExecuteTime": {
     "end_time": "2024-02-01T09:57:35.598346700Z",
     "start_time": "2024-02-01T09:57:34.598179200Z"
    }
   },
   "outputs": [],
   "source": [
    "import numpy as np # Importerar numpy, för att kunan generera (pseudo)slumpade tal\n",
    "import plotly.express as px # importerar plotly för att generera diagram som är mer interaktiva än matplot\n",
    "import plotly.graph_objects as go # eftersom att flera linjer inkluderas i diagrammet, används graph_objects\n",
    "import pandas as pd # pandas importeras för att skapa dataframes där den genererade datan ingår\n",
    "import statistics # För att göra statistiska uträkningar (t.ex. standardavvikelser) importeras statistics-biblioteket\n"
   ]
  },
  {
   "cell_type": "code",
   "outputs": [
    {
     "name": "stdout",
     "output_type": "stream",
     "text": [
      "9\n"
     ]
    }
   ],
   "source": [
    "priceindex = [] #index/varje given tidpunkt för simulationen (representerar x-axeln i diagrammet)\n",
    "stockprices = [] # En lista som populeras med aktiepriser när simulationen körs (representerar y-axeln i diagrammet)\n",
    "tradingperiod = int(input(\"Ange antalet tidsenheter tradingsimulatorn körs\")) # längden på simulationen\n",
    "profitorloss = 0 # arbiträrt startvärde, det kommer senare att tillskrivas ett värde för varje tdsenhert som simulerar prisfluktuation \n",
    "startprice = float(input(\"Ange aktiens initiala värde i början av tidsperioden\")) # aktiens ursprungliga värde, det styr antalet enheter man kan köpa vid varje given tidpunkt\n",
    "windowsize = int(input(\"Ange antalet tidsenheter som det glidande medelvärdet ska beräknas över\")) # En nödvändig variabel för att uträkna det glidande genomsnittet, samt Bollinger-bandens beskaffenhet."
   ],
   "metadata": {
    "collapsed": false,
    "ExecuteTime": {
     "end_time": "2024-02-01T09:58:35.916619300Z",
     "start_time": "2024-02-01T09:58:35.911150600Z"
    }
   },
   "id": "12427311dea73e51",
   "execution_count": 5
  },
  {
   "cell_type": "code",
   "outputs": [],
   "source": [],
   "metadata": {
    "collapsed": false
   },
   "id": "eb21bfa5c1c2d62e"
  }
 ],
 "metadata": {
  "kernelspec": {
   "display_name": "Python 3",
   "language": "python",
   "name": "python3"
  },
  "language_info": {
   "codemirror_mode": {
    "name": "ipython",
    "version": 2
   },
   "file_extension": ".py",
   "mimetype": "text/x-python",
   "name": "python",
   "nbconvert_exporter": "python",
   "pygments_lexer": "ipython2",
   "version": "2.7.6"
  }
 },
 "nbformat": 5,
 "nbformat_minor": 5
}
